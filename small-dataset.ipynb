{
 "metadata": {
  "name": ""
 },
 "nbformat": 3,
 "nbformat_minor": 0,
 "worksheets": [
  {
   "cells": [
    {
     "cell_type": "code",
     "collapsed": false,
     "input": [
      "df = sqlContext.read.format('com.databricks.spark.xml').options(rowTag='book').load('/home/ubuntu/books.xml')"
     ],
     "language": "python",
     "metadata": {},
     "outputs": [],
     "prompt_number": 1
    },
    {
     "cell_type": "code",
     "collapsed": false,
     "input": [
      "df.show()"
     ],
     "language": "python",
     "metadata": {},
     "outputs": [
      {
       "output_type": "stream",
       "stream": "stdout",
       "text": [
        "+-----+--------------------+--------------------+---------------+-----+------------+--------------------+\n",
        "|  @id|              author|         description|          genre|price|publish_date|               title|\n",
        "+-----+--------------------+--------------------+---------------+-----+------------+--------------------+\n",
        "|bk101|Gambardella, Matthew|\n",
        "\n",
        "\n",
        "         An in...|       Computer|44.95|  2000-10-01|XML Developer's G...|\n",
        "|bk102|          Ralls, Kim|A former architec...|        Fantasy| 5.95|  2000-12-16|       Midnight Rain|\n",
        "|bk103|         Corets, Eva|After the collaps...|        Fantasy| 5.95|  2000-11-17|     Maeve Ascendant|\n",
        "|bk104|         Corets, Eva|In post-apocalyps...|        Fantasy| 5.95|  2001-03-10|     Oberon's Legacy|\n",
        "|bk105|         Corets, Eva|The two daughters...|        Fantasy| 5.95|  2001-09-10|  The Sundered Grail|\n",
        "|bk106|    Randall, Cynthia|When Carla meets ...|        Romance| 4.95|  2000-09-02|         Lover Birds|\n",
        "|bk107|      Thurman, Paula|A deep sea diver ...|        Romance| 4.95|  2000-11-02|       Splish Splash|\n",
        "|bk108|       Knorr, Stefan|An anthology of h...|         Horror| 4.95|  2000-12-06|     Creepy Crawlies|\n",
        "|bk109|        Kress, Peter|After an inadvert...|Science Fiction| 6.95|  2000-11-02|        Paradox Lost|\n",
        "|bk110|        O'Brien, Tim|Microsoft's .NET ...|       Computer|36.95|  2000-12-09|Microsoft .NET: T...|\n",
        "|bk111|        O'Brien, Tim|The Microsoft MSX...|       Computer|36.95|  2000-12-01|MSXML3: A Compreh...|\n",
        "|bk112|         Galos, Mike|Microsoft Visual ...|       Computer|49.95|  2001-04-16|Visual Studio 7: ...|\n",
        "+-----+--------------------+--------------------+---------------+-----+------------+--------------------+\n",
        "\n"
       ]
      }
     ],
     "prompt_number": 17
    },
    {
     "cell_type": "code",
     "collapsed": false,
     "input": [
      "df2 = df.select(\"author\", \"@id\")"
     ],
     "language": "python",
     "metadata": {},
     "outputs": [],
     "prompt_number": 10
    },
    {
     "cell_type": "code",
     "collapsed": false,
     "input": [
      "df2.show()"
     ],
     "language": "python",
     "metadata": {},
     "outputs": [
      {
       "output_type": "stream",
       "stream": "stdout",
       "text": [
        "+--------------------+-----+\n",
        "|              author|  @id|\n",
        "+--------------------+-----+\n",
        "|Gambardella, Matthew|bk101|\n",
        "|          Ralls, Kim|bk102|\n",
        "|         Corets, Eva|bk103|\n",
        "|         Corets, Eva|bk104|\n",
        "|         Corets, Eva|bk105|\n",
        "|    Randall, Cynthia|bk106|\n",
        "|      Thurman, Paula|bk107|\n",
        "|       Knorr, Stefan|bk108|\n",
        "|        Kress, Peter|bk109|\n",
        "|        O'Brien, Tim|bk110|\n",
        "|        O'Brien, Tim|bk111|\n",
        "|         Galos, Mike|bk112|\n",
        "+--------------------+-----+\n",
        "\n"
       ]
      }
     ],
     "prompt_number": 14
    },
    {
     "cell_type": "code",
     "collapsed": false,
     "input": [
      "df2.filter(df2[\"author\"]> 'D').show()"
     ],
     "language": "python",
     "metadata": {},
     "outputs": [
      {
       "output_type": "stream",
       "stream": "stdout",
       "text": [
        "+--------------------+-----+\n",
        "|              author|  @id|\n",
        "+--------------------+-----+\n",
        "|Gambardella, Matthew|bk101|\n",
        "|          Ralls, Kim|bk102|\n",
        "|    Randall, Cynthia|bk106|\n",
        "|      Thurman, Paula|bk107|\n",
        "|       Knorr, Stefan|bk108|\n",
        "|        Kress, Peter|bk109|\n",
        "|        O'Brien, Tim|bk110|\n",
        "|        O'Brien, Tim|bk111|\n",
        "|         Galos, Mike|bk112|\n",
        "+--------------------+-----+\n",
        "\n"
       ]
      }
     ],
     "prompt_number": 16
    },
    {
     "cell_type": "code",
     "collapsed": false,
     "input": [
      "df.filter(df['author'] > 21).show()"
     ],
     "language": "python",
     "metadata": {},
     "outputs": [
      {
       "output_type": "stream",
       "stream": "stdout",
       "text": [
        "+---+------+-----------+-----+-----+------------+-----+\n",
        "|@id|author|description|genre|price|publish_date|title|\n",
        "+---+------+-----------+-----+-----+------------+-----+\n",
        "+---+------+-----------+-----+-----+------------+-----+\n",
        "\n"
       ]
      }
     ],
     "prompt_number": 13
    },
    {
     "cell_type": "code",
     "collapsed": false,
     "input": [],
     "language": "python",
     "metadata": {},
     "outputs": []
    }
   ],
   "metadata": {}
  }
 ]
}